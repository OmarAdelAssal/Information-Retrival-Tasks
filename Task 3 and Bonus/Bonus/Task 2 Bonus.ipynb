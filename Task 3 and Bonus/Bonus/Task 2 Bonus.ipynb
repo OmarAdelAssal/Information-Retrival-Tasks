{
 "cells": [
  {
   "cell_type": "code",
   "execution_count": 8,
   "id": "2e347d66",
   "metadata": {},
   "outputs": [],
   "source": [
    "import pandas as pd\n",
    "laptops = pd.read_csv(r\"E:\\kolya\\3- Level Three\\Second Term\\Data Storage & Retrival\\section\\Tasks\\Task 2 and bonus\\Bonus\\laptop_price.csv\", encoding_errors='ignore')\n",
    "# laptops.head()\n"
   ]
  },
  {
   "cell_type": "code",
   "execution_count": 3,
   "id": "8a686ae3",
   "metadata": {},
   "outputs": [
    {
     "data": {
      "text/plain": [
       "laptop_ID           0\n",
       "Company             0\n",
       "Product             0\n",
       "TypeName            0\n",
       "Inches              0\n",
       "ScreenResolution    0\n",
       "Cpu                 0\n",
       "Ram                 0\n",
       "Memory              0\n",
       "Gpu                 0\n",
       "OpSys               0\n",
       "Weight              0\n",
       "Price_euros         0\n",
       "dtype: int64"
      ]
     },
     "execution_count": 3,
     "metadata": {},
     "output_type": "execute_result"
    }
   ],
   "source": [
    "laptops.isna().sum()\n",
    "# laptops.describe()"
   ]
  },
  {
   "cell_type": "code",
   "execution_count": 7,
   "id": "d90bce7b",
   "metadata": {},
   "outputs": [],
   "source": [
    "# first way to Remove all rows with NULL values from the DataFrame\n",
    "# inplace = True do the changes and save it on the same dataframe\n",
    "laptops.dropna(axis=0, inplace=True)"
   ]
  },
  {
   "cell_type": "code",
   "execution_count": 6,
   "id": "d578cf4a",
   "metadata": {},
   "outputs": [
    {
     "data": {
      "text/plain": [
       "laptop_ID           0\n",
       "Company             0\n",
       "Product             0\n",
       "TypeName            0\n",
       "Inches              0\n",
       "ScreenResolution    0\n",
       "Cpu                 0\n",
       "Ram                 0\n",
       "Memory              0\n",
       "Gpu                 0\n",
       "OpSys               0\n",
       "Weight              0\n",
       "Price_euros         0\n",
       "dtype: int64"
      ]
     },
     "execution_count": 6,
     "metadata": {},
     "output_type": "execute_result"
    }
   ],
   "source": [
    "laptops.isna().sum()"
   ]
  }
 ],
 "metadata": {
  "kernelspec": {
   "display_name": "Python 3 (ipykernel)",
   "language": "python",
   "name": "python3"
  },
  "language_info": {
   "codemirror_mode": {
    "name": "ipython",
    "version": 3
   },
   "file_extension": ".py",
   "mimetype": "text/x-python",
   "name": "python",
   "nbconvert_exporter": "python",
   "pygments_lexer": "ipython3",
   "version": "3.11.1"
  }
 },
 "nbformat": 4,
 "nbformat_minor": 5
}
